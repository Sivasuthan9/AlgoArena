{
 "cells": [
  {
   "cell_type": "markdown",
   "metadata": {},
   "source": [
    "## 1. Singly Linked List (SLL)"
   ]
  },
  {
   "cell_type": "code",
   "execution_count": 8,
   "metadata": {},
   "outputs": [
    {
     "name": "stdout",
     "output_type": "stream",
     "text": [
      "10 → 20 → 30 → None\n"
     ]
    }
   ],
   "source": [
    "class Node:\n",
    "    def __init__(self, data):\n",
    "        self.data = data\n",
    "        self.next = None  # Points to the next node\n",
    "\n",
    "class SinglyLinkedList:\n",
    "    def __init__(self):\n",
    "        self.head = None\n",
    "\n",
    "    def insert_at_end(self, data):\n",
    "        new_node = Node(data)\n",
    "        if not self.head:\n",
    "            self.head = new_node\n",
    "            return\n",
    "        temp = self.head\n",
    "        while temp.next:\n",
    "            temp = temp.next\n",
    "        temp.next = new_node\n",
    "\n",
    "    def display(self):\n",
    "        temp = self.head\n",
    "        while temp:\n",
    "            print(temp.data, end=\" → \")\n",
    "            temp = temp.next\n",
    "        print(\"None\")\n",
    "\n",
    "# Usage\n",
    "sll = SinglyLinkedList()\n",
    "sll.insert_at_end(10)\n",
    "sll.insert_at_end(20)\n",
    "sll.insert_at_end(30)\n",
    "sll.display()  # Output: 10 → 20 → 30 → None"
   ]
  },
  {
   "cell_type": "markdown",
   "metadata": {},
   "source": [
    "## 2. Doubly Linked List (DLL)"
   ]
  },
  {
   "cell_type": "code",
   "execution_count": 9,
   "metadata": {},
   "outputs": [
    {
     "name": "stdout",
     "output_type": "stream",
     "text": [
      "10 ⇄ 20 ⇄ 30 ⇄ None\n"
     ]
    }
   ],
   "source": [
    "class DNode:\n",
    "    def __init__(self, data):\n",
    "        self.data = data\n",
    "        self.next = None\n",
    "        self.prev = None  # Points to the previous node\n",
    "\n",
    "class DoublyLinkedList:\n",
    "    def __init__(self):\n",
    "        self.head = None\n",
    "\n",
    "    def insert_at_end(self, data):\n",
    "        new_node = DNode(data)\n",
    "        if not self.head:\n",
    "            self.head = new_node\n",
    "            return\n",
    "        temp = self.head\n",
    "        while temp.next:\n",
    "            temp = temp.next\n",
    "        temp.next = new_node\n",
    "        new_node.prev = temp  # Link backward\n",
    "\n",
    "    def display_forward(self):\n",
    "        temp = self.head\n",
    "        while temp:\n",
    "            print(temp.data, end=\" ⇄ \")\n",
    "            temp = temp.next\n",
    "        print(\"None\")\n",
    "\n",
    "# Usage\n",
    "dll = DoublyLinkedList()\n",
    "dll.insert_at_end(10)\n",
    "dll.insert_at_end(20)\n",
    "dll.insert_at_end(30)\n",
    "dll.display_forward()  # Output: 10 ⇄ 20 ⇄ 30 ⇄ None"
   ]
  },
  {
   "cell_type": "markdown",
   "metadata": {},
   "source": [
    "## 3. Circular Linked List (CLL)"
   ]
  },
  {
   "cell_type": "code",
   "execution_count": 10,
   "metadata": {},
   "outputs": [
    {
     "name": "stdout",
     "output_type": "stream",
     "text": [
      "10 → 20 → 30 → (Back to Head)\n"
     ]
    }
   ],
   "source": [
    "class CNode:\n",
    "    def __init__(self, data):\n",
    "        self.data = data\n",
    "        self.next = None  # Points to the next node\n",
    "\n",
    "class CircularLinkedList:\n",
    "    def __init__(self):\n",
    "        self.head = None\n",
    "\n",
    "    def insert_at_end(self, data):\n",
    "        new_node = CNode(data)\n",
    "        if not self.head:\n",
    "            self.head = new_node\n",
    "            new_node.next = self.head  # Circular link to itself\n",
    "            return\n",
    "        temp = self.head\n",
    "        while temp.next != self.head:\n",
    "            temp = temp.next\n",
    "        temp.next = new_node\n",
    "        new_node.next = self.head  # Maintain circular connection\n",
    "\n",
    "    def display(self):\n",
    "        if not self.head:\n",
    "            print(\"List is empty\")\n",
    "            return\n",
    "        temp = self.head\n",
    "        while True:\n",
    "            print(temp.data, end=\" → \")\n",
    "            temp = temp.next\n",
    "            if temp == self.head:\n",
    "                break\n",
    "        print(\"(Back to Head)\")\n",
    "\n",
    "# Usage\n",
    "cll = CircularLinkedList()\n",
    "cll.insert_at_end(10)\n",
    "cll.insert_at_end(20)\n",
    "cll.insert_at_end(30)\n",
    "cll.display()  # Output: 10 → 20 → 30 → (Back to Head)"
   ]
  },
  {
   "cell_type": "markdown",
   "metadata": {},
   "source": [
    "**Key Takeaways:**  \n",
    "- **Singly Linked List (SLL):** One-way traversal, efficient for simple list operations.  \n",
    "- **Doubly Linked List (DLL):** Two-way traversal, useful for undo/redo and history-based operations.  \n",
    "- **Circular Linked List (CLL):** Infinite looping structure, best for scheduling and cyclic tasks.  "
   ]
  }
 ],
 "metadata": {
  "kernelspec": {
   "display_name": "Python 3",
   "language": "python",
   "name": "python3"
  },
  "language_info": {
   "codemirror_mode": {
    "name": "ipython",
    "version": 3
   },
   "file_extension": ".py",
   "mimetype": "text/x-python",
   "name": "python",
   "nbconvert_exporter": "python",
   "pygments_lexer": "ipython3",
   "version": "3.12.9"
  }
 },
 "nbformat": 4,
 "nbformat_minor": 2
}
